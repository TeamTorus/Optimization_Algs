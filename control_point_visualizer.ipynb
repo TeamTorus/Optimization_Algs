{
 "cells": [
  {
   "cell_type": "code",
   "execution_count": null,
   "id": "166c085f",
   "metadata": {},
   "outputs": [],
   "source": [
    "import numpy as np\n",
    "import scipy.interpolate as si\n",
    "import matplotlib.pyplot as plt"
   ]
  },
  {
   "cell_type": "markdown",
   "id": "d087f61b",
   "metadata": {},
   "source": [
    "### Fit Points From Control Points\n",
    "Uses scipy to get a list of fit points given control points, degree, and interval. We used degree=5 for all of our airfoils. "
   ]
  },
  {
   "cell_type": "code",
   "execution_count": null,
   "id": "b74b211e",
   "metadata": {},
   "outputs": [],
   "source": [
    "def scipy_bspline(cv, n=100, degree=3, periodic=False):\n",
    "    \"\"\" Calculate n samples on a bspline\n",
    "\n",
    "        cv :      Array ov control vertices\n",
    "        n  :      Number of samples to return\n",
    "        degree:   Curve degree\n",
    "        periodic: True - Curve is closed\n",
    "    \"\"\"\n",
    "    cv = np.asarray(cv)\n",
    "    count = cv.shape[0]\n",
    "\n",
    "    # Closed curve\n",
    "    if periodic:\n",
    "        kv = np.arange(-degree,count+degree+1)\n",
    "        factor, fraction = divmod(count+degree+1, count)\n",
    "        cv = np.roll(np.concatenate((cv,) * factor + (cv[:fraction],)),-1,axis=0)\n",
    "        degree = np.clip(degree,1,degree)\n",
    "\n",
    "    # Opened curve\n",
    "    else:\n",
    "        degree = np.clip(degree,1,count-1)\n",
    "        kv = np.clip(np.arange(count+degree+1)-degree,0,count-degree)\n",
    "    print(kv)\n",
    "    # Return samples\n",
    "    max_param = count - (degree * (1-periodic))\n",
    "    spl = si.BSpline(kv, cv, degree)\n",
    "    return spl(np.linspace(0,max_param,n))"
   ]
  },
  {
   "cell_type": "markdown",
   "id": "003dd472",
   "metadata": {},
   "source": [
    "### Read in Control Points From .txt File\n",
    "Reads in control points from a .txt file and generates an array of np.arrays representing the control points for each spline. Works for any number of splines and removes overlapping points. "
   ]
  },
  {
   "cell_type": "code",
   "execution_count": 34,
   "id": "1e4db55a",
   "metadata": {},
   "outputs": [],
   "source": [
    "import numpy as np\n",
    "\n",
    "def control_points(file_path):\n",
    "    splines = []\n",
    "    cur_spline = []\n",
    "\n",
    "    with open(file_path, 'r') as file:\n",
    "        for line in file:\n",
    "            if line.strip() == 'START':\n",
    "                if cur_spline:\n",
    "                    splines.append(np.array(cur_spline))\n",
    "                    cur_spline = []\n",
    "            elif line.strip() == 'END':\n",
    "                continue\n",
    "            else:\n",
    "                values = list(map(float, line.split()))\n",
    "                cur_spline.append(values[:2])\n",
    "\n",
    "    if cur_spline:\n",
    "        splines.append(np.array(cur_spline))\n",
    "    \n",
    "    # Removes last coordinate of each spline as this is repeated \n",
    "    splines = [spline[:-1] for spline in splines]\n",
    "    return splines\n",
    "\n",
    "# Example usage\n",
    "file_path = 'ControlPoints.txt'  # Replace with the path to your file\n",
    "splines_list = read_file(file_path)"
   ]
  },
  {
   "cell_type": "markdown",
   "id": "c34256e1",
   "metadata": {},
   "source": [
    "### Get and Plot Fitpoints\n",
    "get_fitpoints() takes an array of splines (as control points) returns a flattened list of fitpoints as a list of points as tuples\n",
    "\n",
    "plot_fitpoints() takes an array of splines (as control points) and plots the resulting fitted points with the optional paramater show_points to display the control points"
   ]
  },
  {
   "cell_type": "code",
   "execution_count": 90,
   "id": "dfe6cbce",
   "metadata": {},
   "outputs": [],
   "source": [
    "# Returns flattened list of fitpoints as a list of tuple-points\n",
    "def get_fitpoints(splines):\n",
    "    points = []\n",
    "    for s in splines:\n",
    "        points.append(scipy_bspline(s, n=50, degree=5, periodic=False))\n",
    "        \n",
    "    tuples = []\n",
    "    for spline in points:\n",
    "        flattened_points = spline.reshape(-1, 2).tolist()\n",
    "        flattened_tuples = [tuple(point) for point in flattened_points]\n",
    "        tuples.append(flattened_tuples)\n",
    "    tuples = [point for tup in tuples for point in tup]\n",
    "    \n",
    "    return tuples  "
   ]
  },
  {
   "cell_type": "code",
   "execution_count": 115,
   "id": "ab299c8b",
   "metadata": {},
   "outputs": [
    {
     "name": "stdout",
     "output_type": "stream",
     "text": [
      "[0 0 0 0 0 0 1 1 1 1 1 1]\n",
      "[0 0 0 0 0 0 1 1 1 1 1 1]\n",
      "[0 0 0 0 0 0 1 1 1 1 1 1]\n"
     ]
    },
    {
     "data": {
      "image/png": "[encoded data removed]",
      "text/plain": [
       "<Figure size 432x288 with 1 Axes>"
      ]
     },
     "metadata": {
      "needs_background": "light"
     },
     "output_type": "display_data"
    }
   ],
   "source": [
    "def plot_fitpoints(splines, show_points=True):\n",
    "    for s in splines: \n",
    "        if show_points == True:\n",
    "            plt.plot(s[:,0],s[:,1], 'o--', label='Control Points')\n",
    "        p = scipy_bspline(s, n=50, degree=5, periodic=False)\n",
    "        x,y = p.T\n",
    "        # Setting equal aspect ratio for both axes to avoid distortion\n",
    "        plt.axis('equal')\n",
    "        plt.plot(x,y,)\n",
    "        \n",
    "        \n",
    "plot_fitpoints(splines_list, show_points=False)\n"
   ]
  },
  {
   "cell_type": "markdown",
   "id": "90613f76",
   "metadata": {},
   "source": [
    "### Calculate Non-Overlapping area and Plot Polygons\n",
    "non_overlapping_area() does as the name suggests. It takes two lists of points representing two polygons and returns the non-overlapping area of the two polygons. \n",
    "\n",
    "plot_polygon() takes an ax, set of points, and a label and plots the polygon represented by the points. It has the optional parameter \"fill\" which shades in the area represented by the set of points. This can be used to represent the intersection of two polygons"
   ]
  },
  {
   "cell_type": "code",
   "execution_count": 129,
   "id": "8c26468e",
   "metadata": {},
   "outputs": [],
   "source": [
    "from shapely.geometry import Polygon\n",
    "from shapely.ops import unary_union\n",
    "\n",
    "def non_overlapping_area(poly1_points, poly2_points):\n",
    "    poly1 = Polygon(poly1_points)\n",
    "    poly2 = Polygon(poly2_points)\n",
    "\n",
    "    intersection = poly1.intersection(poly2)\n",
    "\n",
    "    if intersection.is_empty:\n",
    "        return poly1.union(poly2).area\n",
    "    else:\n",
    "        return poly1.union(poly2).area - intersection.area\n",
    "    \n",
    "def plot_polygon(ax, points, label, fill=False):\n",
    "    if fill == True:\n",
    "        x, y = zip(*points)\n",
    "        plt.fill(x, y, alpha=0.5, label=label)\n",
    "        ax.set_aspect('equal', adjustable='datalim')\n",
    "        ax.legend()\n",
    "        \n",
    "    else:\n",
    "        poly = Polygon(points)\n",
    "        x, y = poly.exterior.xy\n",
    "        ax.plot(x, y, label=label)\n",
    "        ax.set_aspect('equal', adjustable='datalim')\n",
    "        ax.legend()"
   ]
  },
  {
   "cell_type": "code",
   "execution_count": 133,
   "id": "f8f8b5c1",
   "metadata": {},
   "outputs": [
    {
     "name": "stdout",
     "output_type": "stream",
     "text": [
      "[0 0 0 0 0 0 1 1 1 1 1 1]\n",
      "[0 0 0 0 0 0 1 1 1 1 1 1]\n",
      "[0 0 0 0 0 0 1 1 1 1 1 1]\n",
      "Non-overlapping area: 0.6029518722875568\n"
     ]
    },
    {
     "data": {
      "text/plain": [
       "<matplotlib.legend.Legend at 0x1de2ee3db80>"
      ]
     },
     "execution_count": 133,
     "metadata": {},
     "output_type": "execute_result"
    },
    {
     "data": {
      "image/png": "[encoded data removed]",
      "text/plain": [
       "<Figure size 432x288 with 1 Axes>"
      ]
     },
     "metadata": {
      "needs_background": "light"
     },
     "output_type": "display_data"
    }
   ],
   "source": [
    "# Example usage\n",
    "poly1_points = [(0, 1), (0, 1), (1, 1), (1, 0)]\n",
    "airfoil_points = get_fitpoints(splines_list)\n",
    "\n",
    "result = non_overlapping_area(poly1_points, airfoil_points)\n",
    "print(f\"Non-overlapping area: {result}\")\n",
    "\n",
    "fig, ax = plt.subplots()\n",
    "plot_polygon(ax, poly1_points, 'Polygon 1')\n",
    "plot_polygon(ax, airfoil_points, 'Airfoil')\n"
   ]
  },
  {
   "cell_type": "code",
   "execution_count": 141,
   "id": "a8f9d535",
   "metadata": {},
   "outputs": [
    {
     "name": "stdout",
     "output_type": "stream",
     "text": [
      "1.0\n"
     ]
    }
   ],
   "source": [
    "square1 = [(0, 0), (0, 1), (1, 1), (1, 0), (0.5, 0)]\n",
    "square2 = [(0, 1), (0, 1), (1, 1), (1, 0)]\n",
    "point = [(0, 0), (0, 0), (0, 0)]\n",
    "print(non_overlapping_area(square1, point))\n"
   ]
  },
  {
   "cell_type": "code",
   "execution_count": 135,
   "id": "25dc29e9",
   "metadata": {},
   "outputs": [
    {
     "data": {
      "image/png": "[encoded data removed]",
      "text/plain": [
       "<Figure size 432x288 with 1 Axes>"
      ]
     },
     "metadata": {
      "needs_background": "light"
     },
     "output_type": "display_data"
    }
   ],
   "source": [
    "fig, ax = plt.subplots()\n",
    "plot_polygon(ax, square1, 'Polygon 1')\n",
    "plot_polygon(ax, square2, 'Airfoil')\n"
   ]
  }
 ],
 "metadata": {
  "kernelspec": {
   "display_name": "Python 3",
   "language": "python",
   "name": "python3"
  },
  "language_info": {
   "codemirror_mode": {
    "name": "ipython",
    "version": 3
   },
   "file_extension": ".py",
   "mimetype": "text/x-python",
   "name": "python",
   "nbconvert_exporter": "python",
   "pygments_lexer": "ipython3",
   "version": "3.8.8"
  }
 },
 "nbformat": 4,
 "nbformat_minor": 5
}
